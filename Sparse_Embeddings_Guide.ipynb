{
  "nbformat": 4,
  "nbformat_minor": 0,
  "metadata": {
    "colab": {
      "provenance": [],
      "include_colab_link": true
    },
    "kernelspec": {
      "name": "python3",
      "display_name": "Python 3"
    },
    "language_info": {
      "name": "python"
    },
    "widgets": {
      "application/vnd.jupyter.widget-state+json": {
        "4baf5dd366554724af1a4736688bcafe": {
          "model_module": "@jupyter-widgets/controls",
          "model_name": "HBoxModel",
          "model_module_version": "1.5.0",
          "state": {
            "_dom_classes": [],
            "_model_module": "@jupyter-widgets/controls",
            "_model_module_version": "1.5.0",
            "_model_name": "HBoxModel",
            "_view_count": null,
            "_view_module": "@jupyter-widgets/controls",
            "_view_module_version": "1.5.0",
            "_view_name": "HBoxView",
            "box_style": "",
            "children": [
              "IPY_MODEL_bffeb809ca5a4e9eaa5037cd39ee1d9e",
              "IPY_MODEL_a75295e1c0fd4ff996635ac002037237",
              "IPY_MODEL_1b3a5d73d5c548a3894fa4b648285b7a"
            ],
            "layout": "IPY_MODEL_0b38dbaa40da46e89624f62cc3b05263"
          }
        },
        "bffeb809ca5a4e9eaa5037cd39ee1d9e": {
          "model_module": "@jupyter-widgets/controls",
          "model_name": "HTMLModel",
          "model_module_version": "1.5.0",
          "state": {
            "_dom_classes": [],
            "_model_module": "@jupyter-widgets/controls",
            "_model_module_version": "1.5.0",
            "_model_name": "HTMLModel",
            "_view_count": null,
            "_view_module": "@jupyter-widgets/controls",
            "_view_module_version": "1.5.0",
            "_view_name": "HTMLView",
            "description": "",
            "description_tooltip": null,
            "layout": "IPY_MODEL_ac51789458a846779d0f12e9d2619c08",
            "placeholder": "​",
            "style": "IPY_MODEL_b31ef1b66d8e471f89d0fc88d8c13496",
            "value": "Resolving data files: 100%"
          }
        },
        "a75295e1c0fd4ff996635ac002037237": {
          "model_module": "@jupyter-widgets/controls",
          "model_name": "FloatProgressModel",
          "model_module_version": "1.5.0",
          "state": {
            "_dom_classes": [],
            "_model_module": "@jupyter-widgets/controls",
            "_model_module_version": "1.5.0",
            "_model_name": "FloatProgressModel",
            "_view_count": null,
            "_view_module": "@jupyter-widgets/controls",
            "_view_module_version": "1.5.0",
            "_view_name": "ProgressView",
            "bar_style": "success",
            "description": "",
            "description_tooltip": null,
            "layout": "IPY_MODEL_b2f097f69f5d426ab360912389ab892f",
            "max": 26,
            "min": 0,
            "orientation": "horizontal",
            "style": "IPY_MODEL_eeb44c9544014d179ee38ce8c687b905",
            "value": 26
          }
        },
        "1b3a5d73d5c548a3894fa4b648285b7a": {
          "model_module": "@jupyter-widgets/controls",
          "model_name": "HTMLModel",
          "model_module_version": "1.5.0",
          "state": {
            "_dom_classes": [],
            "_model_module": "@jupyter-widgets/controls",
            "_model_module_version": "1.5.0",
            "_model_name": "HTMLModel",
            "_view_count": null,
            "_view_module": "@jupyter-widgets/controls",
            "_view_module_version": "1.5.0",
            "_view_name": "HTMLView",
            "description": "",
            "description_tooltip": null,
            "layout": "IPY_MODEL_c57b984f45ad4a689087f1924d4a1702",
            "placeholder": "​",
            "style": "IPY_MODEL_7101667f875a405d9a451d9a55b0df4a",
            "value": " 26/26 [00:00&lt;00:00, 910.34it/s]"
          }
        },
        "0b38dbaa40da46e89624f62cc3b05263": {
          "model_module": "@jupyter-widgets/base",
          "model_name": "LayoutModel",
          "model_module_version": "1.2.0",
          "state": {
            "_model_module": "@jupyter-widgets/base",
            "_model_module_version": "1.2.0",
            "_model_name": "LayoutModel",
            "_view_count": null,
            "_view_module": "@jupyter-widgets/base",
            "_view_module_version": "1.2.0",
            "_view_name": "LayoutView",
            "align_content": null,
            "align_items": null,
            "align_self": null,
            "border": null,
            "bottom": null,
            "display": null,
            "flex": null,
            "flex_flow": null,
            "grid_area": null,
            "grid_auto_columns": null,
            "grid_auto_flow": null,
            "grid_auto_rows": null,
            "grid_column": null,
            "grid_gap": null,
            "grid_row": null,
            "grid_template_areas": null,
            "grid_template_columns": null,
            "grid_template_rows": null,
            "height": null,
            "justify_content": null,
            "justify_items": null,
            "left": null,
            "margin": null,
            "max_height": null,
            "max_width": null,
            "min_height": null,
            "min_width": null,
            "object_fit": null,
            "object_position": null,
            "order": null,
            "overflow": null,
            "overflow_x": null,
            "overflow_y": null,
            "padding": null,
            "right": null,
            "top": null,
            "visibility": null,
            "width": null
          }
        },
        "ac51789458a846779d0f12e9d2619c08": {
          "model_module": "@jupyter-widgets/base",
          "model_name": "LayoutModel",
          "model_module_version": "1.2.0",
          "state": {
            "_model_module": "@jupyter-widgets/base",
            "_model_module_version": "1.2.0",
            "_model_name": "LayoutModel",
            "_view_count": null,
            "_view_module": "@jupyter-widgets/base",
            "_view_module_version": "1.2.0",
            "_view_name": "LayoutView",
            "align_content": null,
            "align_items": null,
            "align_self": null,
            "border": null,
            "bottom": null,
            "display": null,
            "flex": null,
            "flex_flow": null,
            "grid_area": null,
            "grid_auto_columns": null,
            "grid_auto_flow": null,
            "grid_auto_rows": null,
            "grid_column": null,
            "grid_gap": null,
            "grid_row": null,
            "grid_template_areas": null,
            "grid_template_columns": null,
            "grid_template_rows": null,
            "height": null,
            "justify_content": null,
            "justify_items": null,
            "left": null,
            "margin": null,
            "max_height": null,
            "max_width": null,
            "min_height": null,
            "min_width": null,
            "object_fit": null,
            "object_position": null,
            "order": null,
            "overflow": null,
            "overflow_x": null,
            "overflow_y": null,
            "padding": null,
            "right": null,
            "top": null,
            "visibility": null,
            "width": null
          }
        },
        "b31ef1b66d8e471f89d0fc88d8c13496": {
          "model_module": "@jupyter-widgets/controls",
          "model_name": "DescriptionStyleModel",
          "model_module_version": "1.5.0",
          "state": {
            "_model_module": "@jupyter-widgets/controls",
            "_model_module_version": "1.5.0",
            "_model_name": "DescriptionStyleModel",
            "_view_count": null,
            "_view_module": "@jupyter-widgets/base",
            "_view_module_version": "1.2.0",
            "_view_name": "StyleView",
            "description_width": ""
          }
        },
        "b2f097f69f5d426ab360912389ab892f": {
          "model_module": "@jupyter-widgets/base",
          "model_name": "LayoutModel",
          "model_module_version": "1.2.0",
          "state": {
            "_model_module": "@jupyter-widgets/base",
            "_model_module_version": "1.2.0",
            "_model_name": "LayoutModel",
            "_view_count": null,
            "_view_module": "@jupyter-widgets/base",
            "_view_module_version": "1.2.0",
            "_view_name": "LayoutView",
            "align_content": null,
            "align_items": null,
            "align_self": null,
            "border": null,
            "bottom": null,
            "display": null,
            "flex": null,
            "flex_flow": null,
            "grid_area": null,
            "grid_auto_columns": null,
            "grid_auto_flow": null,
            "grid_auto_rows": null,
            "grid_column": null,
            "grid_gap": null,
            "grid_row": null,
            "grid_template_areas": null,
            "grid_template_columns": null,
            "grid_template_rows": null,
            "height": null,
            "justify_content": null,
            "justify_items": null,
            "left": null,
            "margin": null,
            "max_height": null,
            "max_width": null,
            "min_height": null,
            "min_width": null,
            "object_fit": null,
            "object_position": null,
            "order": null,
            "overflow": null,
            "overflow_x": null,
            "overflow_y": null,
            "padding": null,
            "right": null,
            "top": null,
            "visibility": null,
            "width": null
          }
        },
        "eeb44c9544014d179ee38ce8c687b905": {
          "model_module": "@jupyter-widgets/controls",
          "model_name": "ProgressStyleModel",
          "model_module_version": "1.5.0",
          "state": {
            "_model_module": "@jupyter-widgets/controls",
            "_model_module_version": "1.5.0",
            "_model_name": "ProgressStyleModel",
            "_view_count": null,
            "_view_module": "@jupyter-widgets/base",
            "_view_module_version": "1.2.0",
            "_view_name": "StyleView",
            "bar_color": null,
            "description_width": ""
          }
        },
        "c57b984f45ad4a689087f1924d4a1702": {
          "model_module": "@jupyter-widgets/base",
          "model_name": "LayoutModel",
          "model_module_version": "1.2.0",
          "state": {
            "_model_module": "@jupyter-widgets/base",
            "_model_module_version": "1.2.0",
            "_model_name": "LayoutModel",
            "_view_count": null,
            "_view_module": "@jupyter-widgets/base",
            "_view_module_version": "1.2.0",
            "_view_name": "LayoutView",
            "align_content": null,
            "align_items": null,
            "align_self": null,
            "border": null,
            "bottom": null,
            "display": null,
            "flex": null,
            "flex_flow": null,
            "grid_area": null,
            "grid_auto_columns": null,
            "grid_auto_flow": null,
            "grid_auto_rows": null,
            "grid_column": null,
            "grid_gap": null,
            "grid_row": null,
            "grid_template_areas": null,
            "grid_template_columns": null,
            "grid_template_rows": null,
            "height": null,
            "justify_content": null,
            "justify_items": null,
            "left": null,
            "margin": null,
            "max_height": null,
            "max_width": null,
            "min_height": null,
            "min_width": null,
            "object_fit": null,
            "object_position": null,
            "order": null,
            "overflow": null,
            "overflow_x": null,
            "overflow_y": null,
            "padding": null,
            "right": null,
            "top": null,
            "visibility": null,
            "width": null
          }
        },
        "7101667f875a405d9a451d9a55b0df4a": {
          "model_module": "@jupyter-widgets/controls",
          "model_name": "DescriptionStyleModel",
          "model_module_version": "1.5.0",
          "state": {
            "_model_module": "@jupyter-widgets/controls",
            "_model_module_version": "1.5.0",
            "_model_name": "DescriptionStyleModel",
            "_view_count": null,
            "_view_module": "@jupyter-widgets/base",
            "_view_module_version": "1.2.0",
            "_view_name": "StyleView",
            "description_width": ""
          }
        }
      }
    }
  },
  "cells": [
    {
      "cell_type": "markdown",
      "metadata": {
        "id": "view-in-github",
        "colab_type": "text"
      },
      "source": [
        "<a href=\"https://colab.research.google.com/github/dimitrod/ehu_nlp_dimathina/blob/rag_sparse_dense_embeddings/Sparse_Embeddings_Guide.ipynb\" target=\"_parent\"><img src=\"https://colab.research.google.com/assets/colab-badge.svg\" alt=\"Open In Colab\"/></a>"
      ]
    },
    {
      "cell_type": "code",
      "execution_count": 1,
      "metadata": {
        "id": "n11G_Avn5wpL",
        "outputId": "be68897f-46ad-4b77-cad6-9e106f1220c6",
        "colab": {
          "base_uri": "https://localhost:8080/"
        }
      },
      "outputs": [
        {
          "output_type": "stream",
          "name": "stdout",
          "text": [
            "Requirement already satisfied: scikit-learn in /usr/local/lib/python3.10/dist-packages (1.5.2)\n",
            "Requirement already satisfied: numpy in /usr/local/lib/python3.10/dist-packages (1.26.4)\n",
            "Collecting datasets\n",
            "  Downloading datasets-3.2.0-py3-none-any.whl.metadata (20 kB)\n",
            "Requirement already satisfied: scipy>=1.6.0 in /usr/local/lib/python3.10/dist-packages (from scikit-learn) (1.13.1)\n",
            "Requirement already satisfied: joblib>=1.2.0 in /usr/local/lib/python3.10/dist-packages (from scikit-learn) (1.4.2)\n",
            "Requirement already satisfied: threadpoolctl>=3.1.0 in /usr/local/lib/python3.10/dist-packages (from scikit-learn) (3.5.0)\n",
            "Requirement already satisfied: filelock in /usr/local/lib/python3.10/dist-packages (from datasets) (3.16.1)\n",
            "Requirement already satisfied: pyarrow>=15.0.0 in /usr/local/lib/python3.10/dist-packages (from datasets) (17.0.0)\n",
            "Collecting dill<0.3.9,>=0.3.0 (from datasets)\n",
            "  Downloading dill-0.3.8-py3-none-any.whl.metadata (10 kB)\n",
            "Requirement already satisfied: pandas in /usr/local/lib/python3.10/dist-packages (from datasets) (2.2.2)\n",
            "Requirement already satisfied: requests>=2.32.2 in /usr/local/lib/python3.10/dist-packages (from datasets) (2.32.3)\n",
            "Requirement already satisfied: tqdm>=4.66.3 in /usr/local/lib/python3.10/dist-packages (from datasets) (4.66.6)\n",
            "Collecting xxhash (from datasets)\n",
            "  Downloading xxhash-3.5.0-cp310-cp310-manylinux_2_17_x86_64.manylinux2014_x86_64.whl.metadata (12 kB)\n",
            "Collecting multiprocess<0.70.17 (from datasets)\n",
            "  Downloading multiprocess-0.70.16-py310-none-any.whl.metadata (7.2 kB)\n",
            "Collecting fsspec<=2024.9.0,>=2023.1.0 (from fsspec[http]<=2024.9.0,>=2023.1.0->datasets)\n",
            "  Downloading fsspec-2024.9.0-py3-none-any.whl.metadata (11 kB)\n",
            "Requirement already satisfied: aiohttp in /usr/local/lib/python3.10/dist-packages (from datasets) (3.11.10)\n",
            "Requirement already satisfied: huggingface-hub>=0.23.0 in /usr/local/lib/python3.10/dist-packages (from datasets) (0.26.5)\n",
            "Requirement already satisfied: packaging in /usr/local/lib/python3.10/dist-packages (from datasets) (24.2)\n",
            "Requirement already satisfied: pyyaml>=5.1 in /usr/local/lib/python3.10/dist-packages (from datasets) (6.0.2)\n",
            "Requirement already satisfied: aiohappyeyeballs>=2.3.0 in /usr/local/lib/python3.10/dist-packages (from aiohttp->datasets) (2.4.4)\n",
            "Requirement already satisfied: aiosignal>=1.1.2 in /usr/local/lib/python3.10/dist-packages (from aiohttp->datasets) (1.3.1)\n",
            "Requirement already satisfied: async-timeout<6.0,>=4.0 in /usr/local/lib/python3.10/dist-packages (from aiohttp->datasets) (4.0.3)\n",
            "Requirement already satisfied: attrs>=17.3.0 in /usr/local/lib/python3.10/dist-packages (from aiohttp->datasets) (24.2.0)\n",
            "Requirement already satisfied: frozenlist>=1.1.1 in /usr/local/lib/python3.10/dist-packages (from aiohttp->datasets) (1.5.0)\n",
            "Requirement already satisfied: multidict<7.0,>=4.5 in /usr/local/lib/python3.10/dist-packages (from aiohttp->datasets) (6.1.0)\n",
            "Requirement already satisfied: propcache>=0.2.0 in /usr/local/lib/python3.10/dist-packages (from aiohttp->datasets) (0.2.1)\n",
            "Requirement already satisfied: yarl<2.0,>=1.17.0 in /usr/local/lib/python3.10/dist-packages (from aiohttp->datasets) (1.18.3)\n",
            "Requirement already satisfied: typing-extensions>=3.7.4.3 in /usr/local/lib/python3.10/dist-packages (from huggingface-hub>=0.23.0->datasets) (4.12.2)\n",
            "Requirement already satisfied: charset-normalizer<4,>=2 in /usr/local/lib/python3.10/dist-packages (from requests>=2.32.2->datasets) (3.4.0)\n",
            "Requirement already satisfied: idna<4,>=2.5 in /usr/local/lib/python3.10/dist-packages (from requests>=2.32.2->datasets) (3.10)\n",
            "Requirement already satisfied: urllib3<3,>=1.21.1 in /usr/local/lib/python3.10/dist-packages (from requests>=2.32.2->datasets) (2.2.3)\n",
            "Requirement already satisfied: certifi>=2017.4.17 in /usr/local/lib/python3.10/dist-packages (from requests>=2.32.2->datasets) (2024.8.30)\n",
            "Requirement already satisfied: python-dateutil>=2.8.2 in /usr/local/lib/python3.10/dist-packages (from pandas->datasets) (2.8.2)\n",
            "Requirement already satisfied: pytz>=2020.1 in /usr/local/lib/python3.10/dist-packages (from pandas->datasets) (2024.2)\n",
            "Requirement already satisfied: tzdata>=2022.7 in /usr/local/lib/python3.10/dist-packages (from pandas->datasets) (2024.2)\n",
            "Requirement already satisfied: six>=1.5 in /usr/local/lib/python3.10/dist-packages (from python-dateutil>=2.8.2->pandas->datasets) (1.17.0)\n",
            "Downloading datasets-3.2.0-py3-none-any.whl (480 kB)\n",
            "\u001b[2K   \u001b[90m━━━━━━━━━━━━━━━━━━━━━━━━━━━━━━━━━━━━━━━━\u001b[0m \u001b[32m480.6/480.6 kB\u001b[0m \u001b[31m8.6 MB/s\u001b[0m eta \u001b[36m0:00:00\u001b[0m\n",
            "\u001b[?25hDownloading dill-0.3.8-py3-none-any.whl (116 kB)\n",
            "\u001b[2K   \u001b[90m━━━━━━━━━━━━━━━━━━━━━━━━━━━━━━━━━━━━━━━━\u001b[0m \u001b[32m116.3/116.3 kB\u001b[0m \u001b[31m8.3 MB/s\u001b[0m eta \u001b[36m0:00:00\u001b[0m\n",
            "\u001b[?25hDownloading fsspec-2024.9.0-py3-none-any.whl (179 kB)\n",
            "\u001b[2K   \u001b[90m━━━━━━━━━━━━━━━━━━━━━━━━━━━━━━━━━━━━━━━━\u001b[0m \u001b[32m179.3/179.3 kB\u001b[0m \u001b[31m12.9 MB/s\u001b[0m eta \u001b[36m0:00:00\u001b[0m\n",
            "\u001b[?25hDownloading multiprocess-0.70.16-py310-none-any.whl (134 kB)\n",
            "\u001b[2K   \u001b[90m━━━━━━━━━━━━━━━━━━━━━━━━━━━━━━━━━━━━━━━━\u001b[0m \u001b[32m134.8/134.8 kB\u001b[0m \u001b[31m8.5 MB/s\u001b[0m eta \u001b[36m0:00:00\u001b[0m\n",
            "\u001b[?25hDownloading xxhash-3.5.0-cp310-cp310-manylinux_2_17_x86_64.manylinux2014_x86_64.whl (194 kB)\n",
            "\u001b[2K   \u001b[90m━━━━━━━━━━━━━━━━━━━━━━━━━━━━━━━━━━━━━━━━\u001b[0m \u001b[32m194.1/194.1 kB\u001b[0m \u001b[31m11.9 MB/s\u001b[0m eta \u001b[36m0:00:00\u001b[0m\n",
            "\u001b[?25hInstalling collected packages: xxhash, fsspec, dill, multiprocess, datasets\n",
            "  Attempting uninstall: fsspec\n",
            "    Found existing installation: fsspec 2024.10.0\n",
            "    Uninstalling fsspec-2024.10.0:\n",
            "      Successfully uninstalled fsspec-2024.10.0\n",
            "\u001b[31mERROR: pip's dependency resolver does not currently take into account all the packages that are installed. This behaviour is the source of the following dependency conflicts.\n",
            "gcsfs 2024.10.0 requires fsspec==2024.10.0, but you have fsspec 2024.9.0 which is incompatible.\u001b[0m\u001b[31m\n",
            "\u001b[0mSuccessfully installed datasets-3.2.0 dill-0.3.8 fsspec-2024.9.0 multiprocess-0.70.16 xxhash-3.5.0\n"
          ]
        }
      ],
      "source": [
        "!pip install scikit-learn numpy datasets"
      ]
    },
    {
      "cell_type": "code",
      "source": [
        "from datasets import load_dataset\n",
        "from sklearn.feature_extraction.text import TfidfVectorizer\n",
        "from sklearn.metrics.pairwise import cosine_similarity\n",
        "import numpy as np\n"
      ],
      "metadata": {
        "id": "UMIZKrjeQhDm"
      },
      "execution_count": 2,
      "outputs": []
    },
    {
      "cell_type": "code",
      "source": [
        "evaluation_data = load_dataset('trivia_qa', name='rc.wikipedia', split=\"test[:7900]\")"
      ],
      "metadata": {
        "id": "-_VpZepEQjZo",
        "outputId": "d7661dac-f9bf-4df0-f6bc-f545a00dc369",
        "colab": {
          "base_uri": "https://localhost:8080/",
          "height": 49,
          "referenced_widgets": [
            "4baf5dd366554724af1a4736688bcafe",
            "bffeb809ca5a4e9eaa5037cd39ee1d9e",
            "a75295e1c0fd4ff996635ac002037237",
            "1b3a5d73d5c548a3894fa4b648285b7a",
            "0b38dbaa40da46e89624f62cc3b05263",
            "ac51789458a846779d0f12e9d2619c08",
            "b31ef1b66d8e471f89d0fc88d8c13496",
            "b2f097f69f5d426ab360912389ab892f",
            "eeb44c9544014d179ee38ce8c687b905",
            "c57b984f45ad4a689087f1924d4a1702",
            "7101667f875a405d9a451d9a55b0df4a"
          ]
        }
      },
      "execution_count": 11,
      "outputs": [
        {
          "output_type": "display_data",
          "data": {
            "text/plain": [
              "Resolving data files:   0%|          | 0/26 [00:00<?, ?it/s]"
            ],
            "application/vnd.jupyter.widget-view+json": {
              "version_major": 2,
              "version_minor": 0,
              "model_id": "4baf5dd366554724af1a4736688bcafe"
            }
          },
          "metadata": {}
        }
      ]
    },
    {
      "cell_type": "markdown",
      "source": [],
      "metadata": {
        "id": "pAvV48zyUIpz"
      }
    },
    {
      "cell_type": "markdown",
      "source": [
        "Erst die richtigen einträge raussuchen\n",
        "Split = train\n",
        "Split size = 7900\n",
        "\n",
        "wiki_contexts -> list"
      ],
      "metadata": {
        "id": "44VQyTakQl1J"
      }
    },
    {
      "cell_type": "code",
      "source": [
        "print(evaluation_data)"
      ],
      "metadata": {
        "id": "kkogafC6QqDN",
        "outputId": "c4eb3d68-66a8-4c88-a1f4-a4dbd3f9ac8f",
        "colab": {
          "base_uri": "https://localhost:8080/"
        }
      },
      "execution_count": 12,
      "outputs": [
        {
          "output_type": "stream",
          "name": "stdout",
          "text": [
            "Dataset({\n",
            "    features: ['question', 'question_id', 'question_source', 'entity_pages', 'search_results', 'answer'],\n",
            "    num_rows: 7701\n",
            "})\n"
          ]
        }
      ]
    },
    {
      "cell_type": "markdown",
      "source": [],
      "metadata": {
        "id": "JcHSlNbGbVL2"
      }
    },
    {
      "cell_type": "code",
      "source": [
        "context = evaluation_data[1]['entity_pages']['wiki_context']\n",
        "print(context)\n",
        "\n",
        "\n",
        "\n"
      ],
      "metadata": {
        "id": "Sivy5olQYLQn",
        "outputId": "f29cbfee-617b-484b-f063-fcf17fffa427",
        "colab": {
          "base_uri": "https://localhost:8080/"
        }
      },
      "execution_count": 24,
      "outputs": [
        {
          "output_type": "stream",
          "name": "stdout",
          "text": [
            "['Ohio is an Eastern state in the Great  Lakes region of the United States.  Ohio is the 34th largest by area, the 7th most populous, and the 10th most densely populated of the 50 United States.  The state\\'s capital and largest city is Columbus.\\n\\nThe state takes its name from the Ohio River. The name originated from the Iroquois word ohi-yo’, meaning \"great river\" or \"large creek\".   Partitioned from the Northwest Territory, the state was admitted to the Union as the 17th state (and the first under the Northwest Ordinance) on March 1, 1803.    Ohio is historically known as the \"Buckeye State\" after its Ohio buckeye trees, and Ohioans are also known as \"Buckeyes\". \\n\\nThe government of Ohio is composed of the executive branch, led by the Governor; the legislative branch, which comprises the Ohio General Assembly; and the judicial branch, which is led by the state Supreme Court. Ohio occupies 16 seats in the United States House of Representatives.  Ohio is known for its status as both a swing state and a bellwether  in national elections. Six Presidents of the United States have been elected who had Ohio as their home state.\\n\\nGeography\\n\\nOhio\\'s geographic location has proven to be an asset for economic growth and expansion. Because Ohio links the Northeast to the Midwest, much cargo and business traffic passes through its borders along its well-developed highways. Ohio has the nation\\'s 10th largest highway network, and is within a one-day drive of 50% of North America\\'s population and 70% of North America\\'s manufacturing capacity.  To the north, Lake Erie gives Ohio 312 mi of coastline,  which allows for numerous cargo ports. Ohio\\'s southern border is defined by the Ohio River (with the border being at the 1793 low-water mark on the north side of the river), and much of the northern border is defined by Lake Erie. Ohio\\'s neighbors are Pennsylvania to the east, Michigan to the northwest, Ontario Canada, to the north, Indiana to the west, Kentucky on the south, and West Virginia on the southeast. Ohio\\'s borders were defined by metes and bounds in the Enabling Act of 1802 as follows:\\n\\nOhio is bounded by the Ohio River, but nearly all of the river itself belongs to Kentucky and West Virginia. In 1980, the U.S. Supreme Court held that, based on the wording of the cessation of territory by Virginia (which at that time included what is now Kentucky and West Virginia), the boundary between Ohio and Kentucky (and, by implication, West Virginia) is the northern low-water mark of the river as it existed in 1792.   Ohio has only that portion of the river between the river\\'s 1792 low-water mark and the present high-water mark.\\n\\nThe border with Michigan has also changed, as a result of the Toledo War, to angle slightly northeast to the north shore of the mouth of the Maumee River.\\n\\nMuch of Ohio features glaciated plains, with an exceptionally flat area in the northwest being known as the Great Black Swamp. This glaciated region in the northwest and central state is bordered to the east and southeast first by a belt known as the glaciated Allegheny Plateau, and then by another belt known as the unglaciated Allegheny Plateau. Most of Ohio is of low relief, but the unglaciated Allegheny Plateau features rugged hills and forests.\\n\\nThe rugged southeastern quadrant of Ohio, stretching in an outward bow-like arc along the Ohio River from the West Virginia Panhandle to the outskirts of Cincinnati, forms a distinct socio-economic unit. Geologically similar to parts of West Virginia and southwestern Pennsylvania, this area\\'s coal mining legacy, dependence on small pockets of old manufacturing establishments, and distinctive regional dialect set this section off from the rest of the state. In 1965 the United States Congress passed the Appalachian Regional Development Act, at attempt to \"address the persistent poverty and growing economic despair of the Appalachian Region.\"   This act defines 29 Ohio counties as part of Appalachia.  While 1/3 of Ohio\\'s land mass is part of the federally defined Appalachian region, only 12.8% of Ohioans live there (1.476 million people.) \\n\\nSignificant rivers within the state include the Cuyahoga River, Great Miami River, Maumee River, Muskingum River, and Scioto River. The rivers in the northern part of the state drain into the northern Atlantic Ocean via Lake Erie and the St. Lawrence River, and the rivers in the southern part of the state drain into the Gulf of Mexico via the Ohio River and then the Mississippi.\\n\\nThe worst weather disaster in Ohio history occurred along the Great Miami River in 1913. Known as the Great Dayton Flood, the entire Miami River watershed flooded, including the downtown business district of Dayton. As a result, the Miami Conservancy District was created as the first major flood plain engineering project in Ohio and the United States. \\n\\nGrand Lake St. Marys in the west central part of the state was constructed as a supply of water for canals in the canal-building era of 1820–1850. For many years this body of water, over 20 sqmi, was the largest artificial lake in the world. It should be noted that Ohio\\'s canal-building projects were not the economic fiasco that similar efforts were in other states. Some cities, such as Dayton, owe their industrial emergence to location on canals, and as late as 1910 interior canals carried much of the bulk freight of the state.\\n\\nClimate\\n\\nThe climate of Ohio is a humid continental climate (Köppen climate classification Dfa) throughout most of the state except in the extreme southern counties of Ohio\\'s Bluegrass region section which are located on the northern periphery of the humid subtropical climate and Upland South region of the United States. Summers are typically hot and humid throughout the state, while winters generally range from cool to cold. Precipitation in Ohio is moderate year-round. Severe weather is not uncommon in the state, although there are typically fewer tornado reports in Ohio than in states located in what is known as the Tornado Alley. Severe lake effect snowstorms are also not uncommon on the southeast shore of Lake Erie, which is located in an area designated as the Snowbelt.\\n\\nAlthough predominantly not in a subtropical climate, some warmer-climate flora and fauna does reach well into Ohio. For instance, a number of trees with more southern ranges, such as the blackjack oak, Quercus marilandica, are found at their northernmost in Ohio just north of the Ohio River. Also evidencing this climatic transition from a subtropical to continental climate, several plants such as the Southern magnolia (Magnolia grandiflora), Albizia julibrissin (mimosa), Crape Myrtle, and even the occasional Needle Palm are hardy landscape materials regularly used as street, yard, and garden plantings in the Bluegrass region of Ohio; but these same plants will simply not thrive in much of the rest of the State. This interesting change may be observed while traveling through Ohio on Interstate 75 from Cincinnati to Toledo; the observant traveler of this diverse state may even catch a glimpse of Cincinnati\\'s common wall lizard, one of the few examples of permanent \"subtropical\" fauna in Ohio.\\n\\nRecords\\n\\nThe highest recorded temperature was 113 F, near Gallipolis on July 21, 1934. \\nThe lowest recorded temperature was , at Milligan on February 10, 1899,  during the Great Blizzard of 1899. \\n\\nEarthquakes\\n\\nAlthough few have registered as noticeable to the average resident, more than 30 earthquakes occurred in Ohio between 2002 and 2007, and more than 200 quakes with a magnitude of 2.0 or higher have occurred since 1776. \\n\\nThe most substantial known earthquake in Ohio history was the Anna (Shelby County) earthquake,  which occurred on March 9, 1937. It was centered in western Ohio, and had a magnitude of 5.4, and was of intensity VIII. \\n\\nOther significant earthquakes in Ohio include:  one of magnitude 4.8 near Lima on September 19, 1884;  one of magnitude 4.2 near Portsmouth on May 17, 1901;  and one of 5.0 in LeRoy Township in Lake County on January 31, 1986, which continued to trigger 13 aftershocks of magnitude 0.5 to 2.4 for two months.  \\n\\nThe most recent earthquake in Ohio of any appreciable magnitude occurred on December 31, 2011, at 3:05pm EST. It had a magnitude of 4.0, and its epicenter was located approximately 4 kilometres northwest of Youngstown (), near the Trumbull/Mahoning county border. \\n\\nThe Ohio Seismic Network (OhioSeis), a group of seismograph stations at several colleges, universities, and other institutions, and coordinated by the Division of Geological Survey of the Ohio Department of Natural Resources,  maintains an extensive catalog of Ohio earthquakes from 1776 to the present day, as well as earthquakes located in other states whose effects were felt in Ohio. \\n\\nMajor cities\\n\\nColumbus (home of The Ohio State University, Franklin University, Capital University, and Ohio Dominican University) is the capital of Ohio, near the geographic center of the state.\\n\\nOther Ohio cities functioning as centers of United States metropolitan areas include:\\n*Akron (home of University of Akron and Goodyear Tire and Rubber Company)\\n*Canton (home of Pro Football Hall of Fame, Malone University, and The Timken Company)\\n*Cincinnati (home of University of Cincinnati, Xavier University, Cincinnati Museum Center, Cincinnati Symphony Orchestra, Procter & Gamble, Kroger, Macy\\'s Inc., and Fifth Third Bank)\\n*Cleveland (home of Cleveland State University, Playhouse Square Center, The Cleveland Museum of Art, The Cleveland Orchestra, Case Western Reserve University, The Cleveland Clinic, Rock and Roll Hall of Fame, Forest City Enterprises, and University Hospitals)\\n*Dayton (home of University of Dayton, Dayton Ballet, Wright State University, Premier Health Partners, and National Museum of the United States Air Force)\\n*Lima (home of University of Northwestern Ohio)\\n*Mansfield (home of North Central State College and Mansfield Motorsports Park)\\n*Sandusky (home of Cedar Point, and Kalahari Resort and Convention Center)\\n*Springfield (home of Wittenberg University)\\n*Steubenville (home of Franciscan University of Steubenville)\\n*Toledo (home of The University of Toledo, The Toledo Museum of Art, Owens Corning, and Owens-Illinois)\\n*Youngstown (home of Youngstown State University and Butler Institute of American Art).\\n\\nNote: The Cincinnati metropolitan area extends into Kentucky and Indiana, the Steubenville metropolitan area extends into West Virginia, and the Youngstown metropolitan area extends into Pennsylvania.\\n\\nOhio cities that function as centers of United States micropolitan areas include:\\n*Ashland (home of Ashland University)\\n*Ashtabula\\n*Athens (home of Ohio University)\\n*Bellefontaine\\n*Bucyrus\\n*Cambridge\\n*Celina\\n*Chillicothe (home of Ohio University-Chillicothe)\\n*Coshocton\\n*Defiance (home of Defiance College)\\n*Findlay (home of The University of Findlay)\\n*Fremont\\n*Greenville\\n*Marion (home of Marion Popcorn Festival)\\n*Mount Vernon (home of Mount Vernon Nazarene University)\\n*New Philadelphia-Dover\\n*Norwalk (home of the NHRA venue Summit Motorsports Park, headquarters of the International Hot Rod Association, and pioneer automobile company Fisher Body)\\n*Oxford (home of Miami University)\\n*Portsmouth (home of Shawnee State University)\\n*Salem\\n*Sidney\\n*Tiffin (home of Heidelberg College and Tiffin University)\\n*Urbana (home of Urbana University)\\n*Van Wert\\n*Wapakoneta (birthplace of Apollo 11 astronaut Neil Armstrong)\\n*Washington Court House\\n*Wilmington (home of Wilmington College)\\n*Wooster (home of The College of Wooster)\\n*Zanesville (home of Zane State College).\\n\\nHistory\\n\\nNative Americans\\n\\nArcheological evidence suggests that the Ohio Valley was inhabited by nomadic people as early as 13,000\\xa0BC.  These early nomads disappeared from Ohio by 1,000\\xa0BC, \"but their material culture provided a base for those who followed them\". Between 1,000 and 800\\xa0BC, the sedentary Adena culture emerged. As Ohio historian George W. Knepper notes, this sophisticated culture was \"so named because evidences of their culture were excavated in 1902 on the grounds of Adena, Thomas Worthington\\'s estate located near Chillicothe\".  The Adena were able to establish \"semi-permanent\" villages because they domesticated plants, which included squash, sunflowers, and perhaps corn. Cultivation of these in addition to hunting and gathering supported more settled, complex villages. The most spectacular remnant of the Adena culture is the Great Serpent Mound, located in Adams County, Ohio.\\n\\nAround 100\\xa0BC, the Adena were joined in Ohio Country by the Hopewell people, who were named for the farm owned by Captain M. C. Hopewell, where evidence of their unique culture was discovered.  Like the Adena, the Hopewell people participated in a mound-building culture. Their complex, large and technologically sophisticated earthworks can be found in modern-day Marietta, Newark, and Circleville. The Hopewell, however, disappeared from the Ohio Valley in about 600\\xa0AD. Little is known about the people who replaced them.  Researchers have identified two additional, distinct prehistoric cultures: the Fort Ancient people and the Whittlesey Focus people. Both cultures apparently disappeared in the 17th century, perhaps decimated by infectious diseases spread in epidemics from early European contact. The Native Americans had no immunity to common European diseases. Some scholars believe that the Fort Ancient people \"were ancestors of the historic Shawnee people, or that, at the very least, the historic Shawnees absorbed remnants of these older peoples.\" There is also fairly good evidence that eastern Siouan nations such as the Tutelo and Saponi descend from Indian Knoll, Adena, and Hopewell peoples.    \\n\\nAmerican Indians in the Ohio Valley were greatly affected by the aggressive tactics of the Iroquois Confederation, based in central and western New York.  After the so-called Beaver Wars in the mid-17th century, the Iroquois claimed much of the Ohio country as hunting and, more importantly, beaver-trapping ground. After the devastation of epidemics and war in the mid-17th century, which largely emptied the Ohio country of indigenous people by the mid-to-late 17th century, the land gradually became repopulated by the mostly Algonquian-speaking descendants of its ancient inhabitants, that is, descendants of the Adena, Hopewell, and Mississippian cultures. Many of these Ohio-country nations were multi-ethnic (sometimes multi-linguistic) societies born out of the earlier devastation brought about by disease, war, and subsequent social instability. They subsisted on agriculture (corn, sunflowers, beans, etc.) supplemented by seasonal hunts. By the 18th century, they were part of a larger global economy brought about by European entry into the fur trade. \\n\\nThe indigenous nations to inhabit Ohio in the historical period included the Miamis (a large confederation); Wyandots (made up of refugees, especially from the fractured Huron confederacy); Delawares (pushed west from their historic homeland in New Jersey); Shawnees (also pushed west, although they may have been descended from the Fort Ancient people of Ohio); Ottawas (more commonly associated with the upper Great Lakes region); Mingos (like the Wyandot, a group recently formed of refugees from Iroquois); Eries (gradually absorbed into the new, multi-ethnic \"republics,\" namely the Wyandot); and eastern Siouan nations such as the Tutelo, Saponi, and the Catawba (territory expanded from the Carolina\\'s, into Virginia, and the Ohio valley).       Ohio country was also the site of Indian massacres, such as the Yellow Creek Massacre, Gnadenhutten and Pontiac\\'s Rebellion school massacre. \\n\\nColonial and Revolutionary eras\\n\\nDuring the 18th century, the French set up a system of trading posts to control the fur trade in the region. Beginning in 1754, France and Great Britain fought a war that was known in North America as the French and Indian War and in Europe as the Seven Years\\' War. As a result of the Treaty of Paris, the French ceded control of Ohio and the remainder of the Old Northwest to Great Britain.\\n\\nPontiac\\'s Rebellion in the 1760s, however, posed a challenge to British military control.  This came to an end with the colonists\\' victory in the American Revolution. In the Treaty of Paris in 1783, Britain ceded all claims to Ohio country to the United States.\\n\\nNorthwest Territory: 1787–1803\\n\\nThe United States created the Northwest Territory under the Northwest Ordinance of 1787.  Slavery was not permitted in the new territory. Settlement began with the founding of Marietta by the Ohio Company of Associates, which had been formed by a group of American Revolutionary War veterans. Following the Ohio Company, the Miami Company (also referred to as the \"Symmes Purchase\") claimed the southwestern section, and the Connecticut Land Company surveyed and settled the Connecticut Western Reserve in present-day Northeast Ohio.\\n\\nThe old Northwest Territory originally included areas previously known as Ohio Country and Illinois Country. As Ohio prepared for statehood, the Indiana Territory was created, reducing the Northwest Territory to approximately the size of present-day Ohio plus the eastern half of the Lower Peninsula of Michigan and the eastern tip of the Upper Peninsula.\\n\\nUnder the Northwest Ordinance, areas of the territory could be defined and admitted as states once their population reached 60,000. Although Ohio\\'s population numbered only 45,000 in December 1801, Congress determined that the population was growing rapidly and Ohio could begin the path to statehood. The assumption was that it would exceed 60,000 residents by the time it was admitted as a state. Furthermore, in regards to the Leni Lenape Native Americans living in the region, Congress decided that 10,000 acres on the Muskingum River in the present state of Ohio would \"be set apart and the property thereof be vested in the Moravian Brethren . . . or a society of the said Brethren for civilizing the Indians and promoting Christianity.\" \\n\\nStatehood: 1803–present\\n\\nOn February 19, 1803, US President Thomas Jefferson signed an act of Congress that approved Ohio\\'s boundaries and constitution.  However, Congress had never passed a resolution formally admitting Ohio as the 17th state. The current custom of Congress declaring an official date of statehood did not begin until 1812, with Louisiana\\'s admission as the 18th state. Although no formal resolution of admission was required, when the oversight was discovered in 1953, Ohio congressman George H. Bender introduced a bill in Congress to admit Ohio to the Union retroactive to March 1, 1803, the date on which the Ohio General Assembly first convened. At a special session at the old state capital in Chillicothe, the Ohio state legislature approved a new petition for statehood that was delivered to Washington, D.C. on horseback. On August 7, 1953 (the year of Ohio\\'s 150th anniversary), President Eisenhower signed a congressional joint resolution that officially declared March 1, 1803 the date of Ohio\\'s admittance into the Union.  \\n\\nOhio has had three capital cities: Chillicothe, Zanesville, and Columbus. Chillicothe was the capital from 1803 to 1810. The capital was then moved to Zanesville for two years, as part of a state legislative compromise, in order to get a bill passed. The capital was then moved back to Chillicothe, which was the capital from 1812 to 1816. Finally, the capital was moved to Columbus, in order to have it near the geographic center of the state, where it would be more accessible to most citizens.\\n\\nAlthough many Native Americans had migrated west to evade American encroachment, others remained settled in the state, sometimes assimilating in part. In 1830 under President Andrew Jackson, the US government forced Indian Removal of most tribes to the Indian Territory west of the Mississippi River.\\n\\nIn 1835, Ohio fought with Michigan in the Toledo War, a mostly bloodless boundary war over the Toledo Strip. Congress intervened, making Michigan\\'s admittance as a state conditional on ending the conflict. In exchange for giving up its claim to the Toledo Strip, Michigan was given the western two-thirds of the Upper Peninsula, in addition to the eastern third that was already considered part of the state.\\n\\nOhio\\'s central position and its population gave it an important place during the Civil War. The Ohio River was a vital artery for troop and supply movements, as were Ohio\\'s railroads. Ohio contributed more soldiers per-capita than any other state in the Union. In 1862, the state\\'s morale was badly shaken in the aftermath of the battle of Shiloh, a costly victory in which Ohio forces suffered 2,000 casualties.  Later that year, when Confederate troops under the leadership of Stonewall Jackson threatened Washington, D.C., Ohio governor David Tod still could recruit 5,000 volunteers to provide three months of service.  Almost 35,000 Ohioans died in the conflict, and thirty thousand were physically wounded.  By the end of the Civil War, the Union\\'s top three generals–Ulysses S. Grant, William Tecumseh Sherman, and Philip Sheridan–were all from Ohio.  \\n\\nIn 1912 a Constitutional Convention was held with Charles B. Galbreath as secretary. The result reflected the concerns of the Progressive Era. It introduced the initiative and the referendum. In addition, it allowed the General Assembly to put questions on the ballot for the people to ratify laws and constitutional amendments originating in the Legislature. Under the Jeffersonian principle that laws should be reviewed once a generation, the constitution provided for a recurring question to appear on Ohio\\'s general election ballots every 20 years. The question asks whether a new convention is required. Although the question has appeared in 1932, 1952, 1972, and 1992, it has never been approved. Instead constitutional amendments have been proposed by petition to the legislature hundreds of times and adopted in a majority of cases.\\n\\nEight US Presidents hailed from Ohio at the time of their elections, giving rise to its nickname \"Mother of Presidents\", a sobriquet it shares with Virginia. It is also termed \"Modern Mother of Presidents,\"  in contrast to Virginia\\'s status as the origin of presidents earlier in American history. Seven Presidents were born in Ohio, making it second to Virginia\\'s eight. Virginia-born William Henry Harrison lived most of his life in Ohio and is also buried there. Harrison conducted his political career while living on the family compound, founded by his father-in-law, John Cleves Symmes, in North Bend, Ohio. The seven presidents born in Ohio were Ulysses S. Grant, Rutherford B. Hayes, James A. Garfield, Benjamin Harrison (grandson of William Henry Harrison), William McKinley, William Howard Taft and Warren G. Harding.\\n\\nDemographics\\n\\nPopulation\\n\\nFrom just over 45,000 residents in 1800, Ohio\\'s population grew at rates of over 10% per decade (except for the 1940 census) until the 1970 census, which recorded just over 10.65 million Ohioans.  Growth then slowed for the next four decades.   The United States Census Bureau estimates that the population of Ohio was 11,613,423 on July 1, 2015, a 0.67% increase since the 2010 United States Census.   Ohio\\'s population growth lags that of the entire United States, and Caucasians are found in a greater density than the United States average. , Ohio\\'s center of population is located in Morrow County,  in the county seat of Mount Gilead.  This is approximately 6346 ft south and west of Ohio\\'s population center in 1990.\\n\\nAs of 2011, 27.6% of Ohio\\'s children under the age of 1 belonged to minority groups. \\n\\n6.2% of Ohio\\'s population is under 5 years of age, 23.7 percent under 18 years of age, and 14.1 percent were 65 or older. Females made up approximately 51.2 percent of the population.\\n\\nRacial and ancestry groups\\n\\nAccording to the 2010 United States census, the racial composition of Ohio was the following:[http://factfinder2.census.gov/faces/tableservices/jsf/pages/productview.xhtml?pidDEC_10_DP_DPDP1&prodType\\ntable American FactFinder - Results] [http://factfinder2.census.gov/faces/tableservices/jsf/pages/productview.xhtml?pidDEC_10_SF1_QTP10&prodType\\ntable American FactFinder - Results]\\n\\n* White American: 82.7% (Non-Hispanic Whites: 81.1%)\\n* Black or African American: 12.2%\\n* Native American: 0.2%\\n* Asian: 1.7% (0.6% Indian, 0.4% Chinese, 0.1% Filipino, 0.1% Korean, 0.1% Vietnamese, 0.1% Japanese)\\n* Pacific Islander: 0.03%\\n* Two or more races: 2.1%\\n* Some other race: 1.1%\\n* Hispanic or Latinos (of any race) make up 3.1% (1.5% Mexican, 0.8% Puerto Rican, 0.1% Guatemalan, 0.1% Cuban)\\n\\nIn 2010, there were 469,700 foreign-born residents in Ohio, corresponding to 4.1% of the total population. Of these, 229,049 (2.0%) were naturalized US citizens and 240,699 (2.1%) were not. The largest groups were:[http://factfinder2.census.gov/faces/tableservices/jsf/pages/productview.xhtml?pid\\nACS_10_1YR_B05006&prodType=table American FactFinder - Results] Mexico (54,166), India (50,256), China (34,901), Germany (19,219), Philippines (16,410), United Kingdom (15,917), Canada (14,223), Russia (11,763), South Korea (11,307), and Ukraine (10,681). Though, predominantly white, Ohio has large black populations in all major metropolitan areas throughout the state, Ohio has a significant Hispanic population made up of Mexicans in Toledo and Columbus, and Puerto Ricans in Cleveland and Columbus, and also has a significant and diverse Asian population in Columbus.\\n\\nThe largest ancestry groups (which the Census defines as not including racial terms) in the state are:[http://factfinder2.census.gov/faces/tableservices/jsf/pages/productview.xhtml?pid\\nACS_10_1YR_B04003&prodType=table American FactFinder - Results]\\n\\n* 26.5% German\\n* 14.1% Irish\\n* 9.0% English\\n* 6.4% Italian\\n* 3.8% Polish\\n* 2.5% French\\n* 1.9% Scottish\\n* 1.7% Hungarian\\n* 1.6% Dutch\\n* 1.5% Mexican\\n* 1.2% Slovak,\\n* 1.1% Welsh\\n* 1.1% Scotch-Irish\\n\\nAncestries claimed by less than 1% of the population include Sub-Saharan African, Puerto Rican, Swiss, Swedish, Arab, Greek, Norwegian, Romanian, Austrian, Lithuanian, Finnish, West Indian, Portuguese and Slovene.\\n\\nLanguages\\n\\nAbout 6.7% of the population age 5 years and over reported speaking a language other than English, with 2.2% of the population speaking Spanish, 2.6% speaking other Indo-European languages, 1.1% speaking Asian and Austronesian languages, and 0.8% speaking other languages. Numerically: 10,100,586 spoke English, 239,229 Spanish, 55,970 German, 38,990 Chinese, 33,125 Arabic, and 32,019 French. In addition 59,881 spoke a Slavic language and 42,673 spoke another West Germanic language according to the 2010 Census.[http://factfinder2.census.gov/faces/tableservices/jsf/pages/productview.xhtml?pid\\nACS_10_1YR_B16001&prodType=table American FactFinder - Results] Ohio also had the nation\\'s largest population of Slovene speakers, second largest of Slovak speakers, second largest of Pennsylvania Dutch (German) speakers, and the third largest of Serbian speakers. \\n\\nReligion\\n\\nAccording to a Pew Forum poll, as of 2008, 76% of Ohioans identified as Christian.  Specifically, 26% of Ohio\\'s population identified as Evangelical Protestant, 22% as Mainline Protestant, and 21% as Roman Catholic. 17% of the population is unaffiliated with any religious body. 1.3% (148,380) were Jewish.  There are also small minorities of Jehovah\\'s Witnesses (1%), Muslims (1%), Hindus (\\n\\nAccording to the Association of Religion Data Archives (ARDA), in 2010 the largest denominations by adherents were the Roman Catholic Church with 1,992,567; the United Methodist Church with 496,232; the Evangelical Lutheran Church in America with 223,253, the Southern Baptist Convention with 171,000, the Christian Churches and Churches of Christ with 141,311, the United Church of Christ with 118,000, and the Presbyterian Church (USA) with 110,000.  With about 70,000 people in 2015 Ohio had the largest Amish population of all states of the US. \\n\\nAccording to the same data, a majority of Ohioans, 55%, feel that religion is \"very important,\" 30% say that it is \"somewhat important,\" and 15% responded that religion is \"not too important/not important at all.\" 36% of Ohioans indicate that they attend religious services at least once weekly, 35% attend occasionally, and 27% seldom or never participate in religious services.\\n\\nEconomy\\n\\nIn 2010, Ohio was ranked No. 2 in the country for best business climate by Site Selection magazine, based on a business-activity database.  The state has also won three consecutive Governor\\'s Cup awards from the magazine, based on business growth and developments.  , Ohio\\'s gross domestic product (GDP) was $478 billion.   This ranks Ohio\\'s economy as the seventh-largest of all fifty states and the District of Columbia.\\n\\nThe Small Business & Entrepreneurship Council ranked the state No. 10 for best business-friendly tax systems in their Business Tax Index 2009, including a top corporate tax and capital gains rate that were both ranked No. 6 at 1.9%.[http://www.sbecouncil.org/uploads/BusinessTaxIndex2009Final.pdf \"Business Tax Index 2009\"] , SMALL BUSINESS & ENTREPRENEURSHIP COUNCIL. Retrieved December 2, 2009. Ohio was ranked No. 11 by the council for best friendly-policy states according to their Small Business Survival Index 2009.  The Directorship\\'s Boardroom Guide ranked the state No. 13 overall for best business climate, including No. 7 for best litigation climate.  Forbes ranked the state No. 8 for best regulatory environment in 2009.  Ohio has 5 of the top 115 colleges in the nation, according to U.S. News and World Report\\'s 2010 rankings,  and was ranked No. 8 by the same magazine in 2008 for best high schools. \\n\\nOhio\\'s unemployment rate stands at 5.2% as of April 2015, down from 10.7% in May 2010.   The state still lacks 45,000 jobs compared to the prerecession numbers of 2007.Olivera Perkins (May 22, 2015) [http://www.cleveland.com/business/index.ssf/2015/05/ohios_unemployment_rate_up_to.html Ohio\\'s unemployment rate up to 5.2 percent: 5 things you need to know] Cleveland.com. The labor force participation as of April 2015 is 63%, slightly above the national average. Ohio\\'s per capita income stands at $34,874.  , Ohio\\'s median household income is $46,645,  and 13.1% of the population is below the poverty line,  slightly above the national rate of 13%.\\n\\nThe manufacturing and financial activities sectors each compose 18.3% of Ohio\\'s GDP, making them Ohio\\'s largest industries by percentage of GDP. Ohio has the largest bioscience sector in the Midwest, and is a national leader in the \"green\" economy. Ohio is the largest producer in the country of plastics, rubber, fabricated metals, electrical equipment, and appliances.  5,212,000 Ohioans are currently employed by wage or salary.\\n\\nBy employment, Ohio\\'s largest sector is trade/transportation/utilities, which employs 1,010,000 Ohioans, or 19.4% of Ohio\\'s workforce, while the health care and education sector employs 825,000 Ohioans (15.8%). Government employs 787,000 Ohioans (15.1%), manufacturing employs 669,000 Ohioans (12.9%), and professional and technical services employs 638,000 Ohioans (12.2%). Ohio\\'s manufacturing sector is the third-largest of all fifty United States states in terms of gross domestic product. Fifty-nine of the United States\\' top 1,000 publicly traded companies (by revenue in 2008) are headquartered in Ohio, including Procter & Gamble, Goodyear Tire & Rubber, AK Steel, Timken, Abercrombie & Fitch, and Wendy\\'s. \\n\\nOhio is also one of 41 states with its own lottery,  the Ohio Lottery.  The Ohio Lottery has contributed over $15.5 billion to public education in its 34-year history. \\n\\nTransportation\\n\\nGround travel\\n\\nMany major east-west transportation corridors go through Ohio. One of those pioneer routes, known in the early 20th century as \"Main Market Route 3\", was chosen in 1913 to become part of the historic Lincoln Highway which was the first road across America, connecting New York City to San Francisco. In Ohio, the Lincoln Highway linked many towns and cities together, including Canton, Mansfield, Wooster, Lima, and Van Wert. The arrival of the Lincoln Highway to Ohio was a major influence on the development of the state. Upon the advent of the federal numbered highway system in 1926, the Lincoln Highway through Ohio became U.S. Route 30.\\n\\nOhio also is home to 228 mi of the Historic National Road, now U.S. Route 40.\\n\\nOhio has a highly developed network of roads and interstate highways. Major east-west through routes include the Ohio Turnpike (I-80/I-90) in the north, I-76 through Akron to Pennsylvania, I-70 through Columbus and Dayton, and the Appalachian Highway (State Route 32) running from West Virginia to Cincinnati. Major north-south routes include I-75 in the west through Toledo, Dayton, and Cincinnati, I-71 through the middle of the state from Cleveland through Columbus and Cincinnati into Kentucky, and I-77 in the eastern part of the state from Cleveland through Akron, Canton, New Philadelphia and Marietta down into West Virginia. Interstate 75 between Cincinnati and Dayton is one of the heaviest traveled sections of interstate in Ohio.\\n\\nOhio also has a highly developed network of signed state bicycle routes.  Many of them follow rail trails, with conversion ongoing. The Ohio to Erie Trail (route 1) connects Cincinnati, Columbus, and Cleveland. U.S. Bicycle Route 50 traverses Ohio from Steubenville to the Indiana state line outside Richmond. \\n\\nAir travel\\n\\nOhio has 5 international airports, 4 commercial and 2 military. The 5 international includes Cleveland Hopkins International Airport, Port Columbus International Airport, and Dayton International Airport, Ohio\\'s third largest airport. Akron Fulton International Airport handles cargo and for private use. Rickenbacker International Airport is one of two military airfields which is also home to the 7th largest FedEx building in America.  The other military airfield is Wright Patterson Air Force Base which is one of the largest Air Force bases in the United States. Other major airports are located in Toledo and Akron.\\n\\nCincinnati/Northern Kentucky International Airport is in Hebron, Kentucky and therefore is not listed above.\\n\\nTransportation lists\\n\\n* List of Ohio state highways\\n* List of Ohio train stations\\n* List of Ohio railroads\\n* List of Ohio rivers\\n* Historic Ohio Canals\\n\\nLaw and government\\n\\nThe state government of Ohio consists of the executive,  judicial,  and legislative  branches.\\n\\nExecutive branch\\n\\nThe executive branch is headed by the Governor of Ohio. The current governor is John Kasich,  a Republican elected in 2010. A lieutenant governor succeeds the governor in the event of any removal from office,  and performs any duties assigned by the governor.  The current lieutenant governor is Mary Taylor. The other elected constitutional offices in the executive branch are the secretary of state (Jon A. Husted), auditor (Dave Yost), treasurer (Josh Mandel), and attorney general (Mike DeWine).\\n\\nJudicial branch\\n\\nThere are three levels of the Ohio state judiciary. The lowest level is the court of common pleas: each county maintains its own constitutionally mandated court of common pleas, which maintain jurisdiction over \"all justiciable matters.\"  The intermediate-level court system is the district court system.  Twelve courts of appeals exist, each retaining jurisdiction over appeals from common pleas, municipal, and county courts in a set geographical area. A case heard in this system is decided by a three-judge panel, and each judge is elected.\\n\\nThe highest-ranking court, the Ohio Supreme Court, is Ohio\\'s \"court of last resort.\"  A seven-justice panel composes the court, which, by its own discretion, hears appeals from the courts of appeals, and retains original jurisdiction over limited matters. \\n\\nLegislative branch\\n\\nThe Ohio General Assembly is a bicameral legislature consisting of the Senate and House of Representatives.  The Senate is composed of 33 districts, each of which is represented by one senator. Each senator represents approximately 330,000 constituents. The House of Representatives is composed of 99 members. \\n\\nNational politics\\n\\nOhio, nicknamed the \"Mother of Presidents,\" has sent seven of its native sons (Ulysses S. Grant, Rutherford B. Hayes, James A. Garfield, Benjamin Harrison, William McKinley, William Howard Taft, and Warren G. Harding) to the White House.  All seven were Republicans. Virginia native William Henry Harrison, a Whig, resided in Ohio. Historian R. Douglas Hurt asserts that not since Virginia \\'had a state made such a mark on national political affairs.\\'  The Economist notes that \"This slice of the mid-west contains a bit of everything American\\xa0— part north-eastern and part southern, part urban and part rural, part hardscrabble poverty and part booming\\nsuburb,\"  Ohio is the only state that has voted for the winning Presidential candidate in each election since 1964, and in 33 of the 37 held since the Civil War. No Republican has ever won the presidency without winning Ohio.\\n\\n, Ohio\\'s voter demographic leans towards the Democratic Party.  An estimated 2,408,178 Ohioans are registered to vote as Democrats, while 1,471,465 Ohioans are registered to vote as Republicans. These are changes from 2004 of 72% and 32%, respectively, and Democrats have registered over 1,000,000 new Ohioans since 2004. Unaffiliated voters have an attrition of 15% since 2004, losing an estimated 718,000 of their kind. The total now rests at 4,057,518 Ohioans. In total, there are 7,937,161 Ohioans registered to vote. In the United States presidential election of 2008, then-Senator Barack Obama of Illinois won 51.50% of Ohio\\'s popular vote, 4.59 percentage points more than his nearest rival, Senator John McCain of Arizona (with 46.91% of the popular vote).  However, Obama won only 22 of Ohio\\'s 88 counties.  Since 2010, the Republicans have largely controlled Ohio state politics, including a super-majority in the state\\'s House, a majority in the state Senate, the Governorship, etc.  As of 2014, the state Senate is 1 Republican away from a super-majority.\\n\\nFollowing the 2000 census, Ohio lost one congressional district in the United States House of Representatives, which leaves Ohio with 18 districts, and consequently, 18 representatives. The state lost two more seats following the 2010 Census, leaving it with 18 votes for the next 3 presidential elections in 2012, 2016 and 2020.  The 2008 elections, Democrats gained three seats in Ohio\\'s delegation to the House of Representatives.  This leaves eight Republican-controlled seats in the Ohio delegation.  Ohio\\'s U.S. Senators in the 112th Congress are Republican Rob Portman and Democrat Sherrod Brown.  Marcy Kaptur (D-9) is the dean, or most senior member, of the Ohio delegation to the United States House of Representatives. \\n\\nEducation\\n\\nOhio\\'s system of public education is outlined in Article VI of the state constitution, and in Title XXXIII of the Ohio Revised Code. Ohio University, the first university in the Northwest Territory, was also the first public institution in Ohio.  Substantively, Ohio\\'s system is similar to those found in other states. At the State level, the Ohio Department of Education, which is overseen by the Ohio State Board of Education, governs primary and secondary educational institutions. At the municipal level, there are approximately 700 school districts statewide. The Ohio Board of Regents coordinates and assists with Ohio\\'s institutions of higher education which have recently been reorganized into the University System of Ohio under Governor Strickland. The system averages an annual enrollment of over 400,000 students, making it one of the five largest state university systems in the U.S.\\n\\nColleges and universities\\n\\n* 13 state universities\\n** Bowling Green State University (Bowling Green)\\n** Central State University (Wilberforce)\\n** Cleveland State University (Cleveland)\\n** Kent State University (Kent)\\n** Miami University (Oxford)\\n** The Ohio State University (Columbus)\\n** Ohio University (Athens)\\n** Shawnee State University (Portsmouth)\\n** University of Akron (Akron)\\n** University of Cincinnati (Cincinnati)\\n** University of Toledo (Toledo)\\n** Wright State University (Dayton/Fairborn)\\n** Youngstown State University (Youngstown)\\n* 24 state university branch and regional campuses\\n* 46 private colleges and universities\\n* 6 free-standing state-assisted medical schools\\n** Boonshoft School of Medicine (formerly known as The Wright State University School of Medicine)\\n** Heritage College of Osteopathic Medicine, Ohio University\\n** Northeast Ohio Medical University\\n** The Ohio State University College of Medicine and Public Health\\n** University of Cincinnati College of Medicine\\n** University of Toledo College of Medicine (formerly Medical University of Ohio)\\n* 15 community colleges\\n* 8 technical colleges\\n* 24 independent non-profit colleges\\n\\nLibraries\\n\\nOhio is home to some of the nation\\'s highest-ranked public libraries.  The 2008 study by Thomas J. Hennen Jr. ranked Ohio as number one in a state-by-state comparison.  For 2008, 31 of Ohio\\'s library systems were all ranked in the top ten for American cities of their population category.\\n* 500,000 books or more\\n** Columbus Metropolitan Library (First)\\n** Cuyahoga County Public Library (Second)\\n** Public Library of Cincinnati and Hamilton County (Tenth)\\n\\nThe Ohio Public Library Information Network (OPLIN) is an organization that provides Ohio residents with internet access to their 251 public libraries. OPLIN also provides Ohioans with free home access to high-quality, subscription research databases.\\n\\nOhio also offers the OhioLINK program, allowing Ohio\\'s libraries (particularly those from colleges and universities) access to materials for the other libraries. The program is largely successful in allowing researchers for access to books and other media that might not be otherwise available.\\n\\nSports\\n\\nProfessional sports leagues\\n\\nOhio is home to major professional sports teams in baseball, basketball, football, hockey, lacrosse and soccer. The state\\'s major professional sporting teams include: Cincinnati Reds (Major League Baseball),  Ohio Machine (Major League Lacrosse), Cleveland Indians (Major League Baseball),  Cincinnati Bengals (National Football League),  Cleveland Browns (National Football League), Cleveland Cavaliers (National Basketball Association),  Columbus Blue Jackets (National Hockey League),  and the Columbus Crew (Major League Soccer). \\n\\nOhio played a central role in the development of both Major League Baseball and the National Football League.  Baseball\\'s first fully professional team, the Cincinnati Red Stockings of 1869, were organized in Ohio.  An informal early 20th century American football association, the Ohio League, was the direct predecessor of the NFL, although neither of Ohio\\'s modern NFL franchises trace their roots to an Ohio League club.  The Pro Football Hall of Fame is located in Canton.\\n\\nOn a smaller scale, Ohio hosts minor league baseball, arena football, indoor football, mid-level hockey, and lower division soccer.\\n\\nIndividual sports\\n\\nThe Mid-Ohio Sports Car Course has hosted several auto racing championships, including CART World Series, IndyCar Series, NASCAR Nationwide Series, Can-Am, Formula 5000, IMSA GT Championship, American Le Mans Series and Rolex Sports Car Series.\\nThe Grand Prix of Cleveland also hosted CART races from 1982 to 2007. The Eldora Speedway is a major dirt oval that hosts NASCAR Camping World Truck Series, World of Outlaws Sprint Cars and USAC Silver Crown Series races.\\n\\nOhio hosts two PGA Tour events, the WGC-Bridgestone Invitational and Memorial Tournament.\\nThe Cincinnati Masters is an ATP World Tour Masters 1000 and WTA Premier 5 tennis tournament.\\n\\nCollege football (NCAA DI-A)\\n\\nOhio has eight NCAA Division I-A college football teams, divided among three different conferences. It has also experienced considerable success in the secondary and tertiary tiers of college football divisions.\\n\\nIn Division I-A, representing the Big Ten, the Ohio State Buckeyes football team ranks 5th among all-time winningest programs, with seven national championships and seven Heisman Trophy winners.  Their biggest rivals are the Michigan Wolverines, whom they traditionally play each year as the last game of their regular season schedule.\\n\\nOhio has six teams represented in the Mid-American Conference: the University of Akron, Bowling Green, Kent State, Miami University, Ohio University and the University of Toledo. The MAC headquarters are based in Cleveland.\\nThe University of Cincinnati Bearcats represent Ohio in the American Athletic Conference.\\n\\nState symbols\\n\\nOhio\\'s state symbols:\\n* State capital: Columbus  (1816) \\n* State herb capital: Gahanna (1972)', 'The Who concert disaster occurred on 3 December 1979 when British rock band the Who performed at Riverfront Coliseum in Cincinnati, Ohio, United States, and resulted in the deaths of eleven people.  \\n\\nThe Who were in the midst of the United States portion of their 1979 world tour and had already played Passaic, New Jersey, New York City, Detroit, and Pittsburgh before arriving in Cincinnati. The concert was a sellout, with 18,348 tickets sold. The majority of these, 14,770, were unassigned general admission tickets that were first-come, first-served. \\n\\nA few hours before the show, a sizeable crowd had already gathered at the front of the arena. Entry to the arena was through a series of individual doors all along the front of the arena, as well as a few doors at each side. The crowd focused at each of the doors. The doors were not opened at the scheduled time, causing the crowd to become increasingly agitated and impatient. During this period, the Who undertook a late soundcheck. Some members of the crowd heard this and mistakenly believed that the concert was starting. Some people in the back of the crowd began pushing toward the front, but this rush soon dissipated as the crowd realized that no doors had been opened and that the concert had not begun. \\n\\nA pair of doors were finally opened at the far right of the main entrance. As concert goers streamed in through those two doors, those waiting in front of all of the other doors began pushing forward. After a short period of waiting and then knocking on the doors and the glass next to the doors, the crowd realized that none of the many remaining doors would be opened. The entire crowd then began surging and pushing toward the sole two doors which had been opened. This caused many people to get trampled while some suffered more serious injuries. Eleven concertgoers were unable to escape the throng of people pushing toward them and were killed by asphyxiation. There were a total of twenty-six other injuries. \\n\\nThose killed were Teva Ladd, age 27; Walter Adams, Jr., 22; James Warmoth, 21; Phillip Snyder, 20; David Heck, 19; Stephen Preston, 19; Peter Bowes, 18; Connie Burns, 18; Bryan Wagner, 17; Karen Morrison, 15; and Jacqueline Eckerle, 15. Twenty-three other fans were injured in the rush for seating at the opening of the sold-out concert.  The concert went on as planned, with the band members not told of the tragedy until after their performance. The following night a lengthy segment on the tragedy aired on the CBS Evening News with Walter Cronkite examining violence at rock concerts. Guitarist Pete Townshend was interviewed by CBS News correspondent Martha Teichner comparing crowd reactions at concerts to football and boxing matches calling them \"high energy events.\"\\n\\nThe families of the victims sued the band, concert promoter Electric Factory Concerts, and the city of Cincinnati. The suits were settled in 1983, awarding each of the families of the deceased approximately $150,000, and approximately $750,000 to be divided among the 23 injured.  The city of Cincinnati also imposed a ban on unassigned seating on December 27, 1979, with minor exceptions, for the next 25 years.  \\n\\nAftermath\\n\\nThe incident was the subject of a book, Are The Kids All Right? The Rock Generation And Its Hidden Death Wish,  as well as a second-season episode of WKRP in Cincinnati called \"In Concert\". It also inspired scenes in the film Pink Floyd—The Wall, whose 1982 premiere was attended by the Who\\'s Pete Townshend. \\n\\nIn 2004, the city of Cincinnati permanently repealed its long-standing ban on unassigned seating, a move which has been criticized by some. The goal of lifting the ban was to attract more big-name acts. However, the city now mandates there must be nine square feet per person at a venue, and the number of tickets sold for each event is adjusted accordingly. \\n\\nPaul Wertheimer, the city\\'s first Public Information Officer at the time of the tragedy, went on to serve on a task force on crowd control, and later founded Crowd Management Strategies in 1992, a consulting firm based in Los Angeles.  \\n\\nIn 2009, thirty years after the tragedy, rock station WEBN/102.7 aired a retrospective on the event, including clips from news coverage in 1979. \\n\\nIn 2014, Pearl Jam played in the city and acknowledged the tragedy. They dedicated a cover of the Who\\'s \"The Real Me\" to those who died. \\n\\nOn the eve of the 35th anniversary of the tragedy, Cincinnati Mayor John Cranley promised to have a historical marker on the site of the tragedy in 2015.  The marker was dedicated at U. S. Bank Arena on December 3, 2015. \\n\\nThe Showtime series Roadies dedicated an entire episode to the \\'79 event.  The episode, \"The City Whose Name Must Not Be Spoken\", showcases the \"roadies\" of a fictional band completing many rituals after someone on the tour bus mentions Cincinnati.']\n"
          ]
        }
      ]
    },
    {
      "cell_type": "markdown",
      "source": [
        "\n",
        "\n",
        "---\n",
        "\n"
      ],
      "metadata": {
        "id": "9luROPgLQqis"
      }
    },
    {
      "cell_type": "code",
      "source": [
        "vectorizer = TfidfVectorizer()\n",
        "\n",
        "vectorizer.fit(texts)\n",
        "lib = vectorizer.transform(texts)"
      ],
      "metadata": {
        "id": "vu1YkEHKQlWd"
      },
      "execution_count": null,
      "outputs": []
    },
    {
      "cell_type": "markdown",
      "source": [
        "in einem file speichern"
      ],
      "metadata": {
        "id": "E1FFIV0iUKG8"
      }
    }
  ]
}