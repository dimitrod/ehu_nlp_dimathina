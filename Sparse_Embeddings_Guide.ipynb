{
  "nbformat": 4,
  "nbformat_minor": 0,
  "metadata": {
    "colab": {
      "provenance": [],
      "authorship_tag": "ABX9TyOMoz+89XI2PI/hpHN3vEIo",
      "include_colab_link": true
    },
    "kernelspec": {
      "name": "python3",
      "display_name": "Python 3"
    },
    "language_info": {
      "name": "python"
    }
  },
  "cells": [
    {
      "cell_type": "markdown",
      "metadata": {
        "id": "view-in-github",
        "colab_type": "text"
      },
      "source": [
        "<a href=\"https://colab.research.google.com/github/dimitrod/ehu_nlp_dimathina/blob/rag_sparse_dense_embeddings/Sparse_Embeddings_Guide.ipynb\" target=\"_parent\"><img src=\"https://colab.research.google.com/assets/colab-badge.svg\" alt=\"Open In Colab\"/></a>"
      ]
    },
    {
      "cell_type": "code",
      "execution_count": null,
      "metadata": {
        "id": "n11G_Avn5wpL"
      },
      "outputs": [],
      "source": [
        "!pip install scikit-learn numpy datasets"
      ]
    },
    {
      "cell_type": "code",
      "source": [
        "from datasets import load_dataset\n",
        "from sklearn.feature_extraction.text import TfidfVectorizer\n",
        "from sklearn.metrics.pairwise import cosine_similarity\n",
        "import numpy as np\n"
      ],
      "metadata": {
        "id": "UMIZKrjeQhDm"
      },
      "execution_count": null,
      "outputs": []
    },
    {
      "cell_type": "code",
      "source": [
        "evaluation_data = load_dataset('trivia_qa', name='rc.wikipedia', split=f\"{split}[:{split_size}]\")"
      ],
      "metadata": {
        "id": "-_VpZepEQjZo"
      },
      "execution_count": null,
      "outputs": []
    },
    {
      "cell_type": "markdown",
      "source": [
        "Erst die richtigen einträge raussuchen\n",
        "Split = train\n",
        "Split size = 7900\n",
        "\n",
        "wiki_contexts -> list"
      ],
      "metadata": {
        "id": "44VQyTakQl1J"
      }
    },
    {
      "cell_type": "code",
      "source": [],
      "metadata": {
        "id": "kkogafC6QqDN"
      },
      "execution_count": null,
      "outputs": []
    },
    {
      "cell_type": "markdown",
      "source": [
        "\n",
        "\n",
        "---\n",
        "\n"
      ],
      "metadata": {
        "id": "9luROPgLQqis"
      }
    },
    {
      "cell_type": "code",
      "source": [
        "vectorizer = TfidfVectorizer()\n",
        "\n",
        "vectorizer.fit(texts)\n",
        "lib = vectorizer.transform(texts)"
      ],
      "metadata": {
        "id": "vu1YkEHKQlWd"
      },
      "execution_count": null,
      "outputs": []
    }
  ]
}